{
 "cells": [
  {
   "cell_type": "markdown",
   "metadata": {},
   "source": [
    "## PyTorch Basics\n",
    "\n",
    "Author: Tobias Uelwer"
   ]
  },
  {
   "cell_type": "markdown",
   "metadata": {},
   "source": [
    "### What is PyTorch?\n",
    "- PyTorch is a Python Deep Learning library\n",
    "- Allows us to easily train neural networks, i.e. calculate gradients und update weights\n",
    "- Developed by Facebook's artificial-intelligence research group\n",
    "- Works hand in hand with NumPy arrays\n",
    "\n",
    "(See: https://pytorch.org/ and https://en.wikipedia.org/wiki/PyTorch)"
   ]
  },
  {
   "cell_type": "code",
   "execution_count": 1,
   "metadata": {},
   "outputs": [
    {
     "name": "stdout",
     "output_type": "stream",
     "text": [
      "1.12.1\n"
     ]
    }
   ],
   "source": [
    "import numpy as np\n",
    "import matplotlib.pyplot as plt\n",
    "\n",
    "import torch\n",
    "print(torch.__version__)"
   ]
  },
  {
   "cell_type": "code",
   "execution_count": 2,
   "metadata": {},
   "outputs": [
    {
     "data": {
      "text/plain": [
       "tensor([[1., 1.],\n",
       "        [1., 1.]], dtype=torch.float64)"
      ]
     },
     "execution_count": 2,
     "metadata": {},
     "output_type": "execute_result"
    }
   ],
   "source": [
    "# we create a new PyTorch tensor from a NumPy tensor\n",
    "torch.from_numpy(np.ones((2,2)))\n",
    "# we can instantanly access its values"
   ]
  },
  {
   "cell_type": "code",
   "execution_count": 3,
   "metadata": {},
   "outputs": [
    {
     "data": {
      "text/plain": [
       "tensor([[ 0.6228, -0.4748,  0.8062, -0.0866, -0.2973],\n",
       "        [-1.4391,  0.0390, -0.4187,  0.1540,  0.0656],\n",
       "        [-0.6182, -2.8717,  1.5573, -0.9319,  0.8497],\n",
       "        [-0.8422,  0.0672,  0.0869,  0.2593, -1.8447]])"
      ]
     },
     "execution_count": 3,
     "metadata": {},
     "output_type": "execute_result"
    }
   ],
   "source": [
    "# generate a random tensor\n",
    "A = torch.randn(4,5)\n",
    "A"
   ]
  },
  {
   "cell_type": "code",
   "execution_count": 4,
   "metadata": {},
   "outputs": [
    {
     "data": {
      "text/plain": [
       "tensor([[ 0.6228, -1.4391, -0.6182, -0.8422],\n",
       "        [-0.4748,  0.0390, -2.8717,  0.0672],\n",
       "        [ 0.8062, -0.4187,  1.5573,  0.0869],\n",
       "        [-0.0866,  0.1540, -0.9319,  0.2593],\n",
       "        [-0.2973,  0.0656,  0.8497, -1.8447]])"
      ]
     },
     "execution_count": 4,
     "metadata": {},
     "output_type": "execute_result"
    }
   ],
   "source": [
    "# transpose\n",
    "A.T"
   ]
  },
  {
   "cell_type": "code",
   "execution_count": 5,
   "metadata": {},
   "outputs": [
    {
     "data": {
      "text/plain": [
       "tensor(0.6228)"
      ]
     },
     "execution_count": 5,
     "metadata": {},
     "output_type": "execute_result"
    }
   ],
   "source": [
    "# indexing\n",
    "A[0,0]"
   ]
  },
  {
   "cell_type": "code",
   "execution_count": 6,
   "metadata": {},
   "outputs": [
    {
     "data": {
      "text/plain": [
       "tensor([ 0.8062, -0.4187,  1.5573,  0.0869])"
      ]
     },
     "execution_count": 6,
     "metadata": {},
     "output_type": "execute_result"
    }
   ],
   "source": [
    "# more indexing\n",
    "A[:,2]"
   ]
  },
  {
   "cell_type": "code",
   "execution_count": 7,
   "metadata": {},
   "outputs": [
    {
     "data": {
      "text/plain": [
       "torch.Size([4, 5])"
      ]
     },
     "execution_count": 7,
     "metadata": {},
     "output_type": "execute_result"
    }
   ],
   "source": [
    "# get the shape of A\n",
    "A.shape"
   ]
  },
  {
   "cell_type": "code",
   "execution_count": 8,
   "metadata": {},
   "outputs": [
    {
     "data": {
      "text/plain": [
       "tensor(20.4714)"
      ]
     },
     "execution_count": 8,
     "metadata": {},
     "output_type": "execute_result"
    }
   ],
   "source": [
    "# traces and matrix transpose\n",
    "torch.trace(torch.t(A) @ A)"
   ]
  },
  {
   "cell_type": "code",
   "execution_count": 9,
   "metadata": {},
   "outputs": [
    {
     "data": {
      "text/plain": [
       "20.47139549255371"
      ]
     },
     "execution_count": 9,
     "metadata": {},
     "output_type": "execute_result"
    }
   ],
   "source": [
    "# the function item() returns a simple Python scalar\n",
    "torch.sum(A**2).item()"
   ]
  },
  {
   "cell_type": "code",
   "execution_count": 10,
   "metadata": {},
   "outputs": [
    {
     "data": {
      "text/plain": [
       "tensor([[[ 0.6228, -0.4748,  0.8062, -0.0866, -0.2973, -1.4391,  0.0390,\n",
       "          -0.4187,  0.1540,  0.0656],\n",
       "         [-0.6182, -2.8717,  1.5573, -0.9319,  0.8497, -0.8422,  0.0672,\n",
       "           0.0869,  0.2593, -1.8447]]])"
      ]
     },
     "execution_count": 10,
     "metadata": {},
     "output_type": "execute_result"
    }
   ],
   "source": [
    "# reshaping\n",
    "A.view(-1,2,10)"
   ]
  },
  {
   "cell_type": "code",
   "execution_count": 11,
   "metadata": {},
   "outputs": [
    {
     "data": {
      "text/plain": [
       "(torch.Size([2, 1, 9, 1]), torch.Size([2, 9]))"
      ]
     },
     "execution_count": 11,
     "metadata": {},
     "output_type": "execute_result"
    }
   ],
   "source": [
    "# flattens a tensor to a vector\n",
    "Ones = torch.ones((2,1,9,1))\n",
    "Ones.shape, Ones.squeeze().shape"
   ]
  },
  {
   "cell_type": "code",
   "execution_count": 12,
   "metadata": {},
   "outputs": [
    {
     "data": {
      "text/plain": [
       "(torch.Size([1, 9]), torch.Size([9, 1]))"
      ]
     },
     "execution_count": 12,
     "metadata": {},
     "output_type": "execute_result"
    }
   ],
   "source": [
    "# add dimensions\n",
    "torch.ones(9).unsqueeze(0).shape, torch.ones(9).unsqueeze(1).shape"
   ]
  },
  {
   "cell_type": "code",
   "execution_count": 13,
   "metadata": {},
   "outputs": [
    {
     "data": {
      "text/plain": [
       "torch.Size([1, 4, 1, 5, 1])"
      ]
     },
     "execution_count": 13,
     "metadata": {},
     "output_type": "execute_result"
    }
   ],
   "source": [
    "# add new dimensions (this also works with numpy arrays...)\n",
    "A[None, :, None,:, None].shape"
   ]
  },
  {
   "cell_type": "code",
   "execution_count": 14,
   "metadata": {},
   "outputs": [
    {
     "data": {
      "text/plain": [
       "tensor([[3.8792e-01, 2.2543e-01, 6.4993e-01, 7.5072e-03, 8.8373e-02],\n",
       "        [2.0710e+00, 1.5214e-03, 1.7532e-01, 2.3719e-02, 4.3063e-03],\n",
       "        [3.8223e-01, 8.2469e+00, 2.4253e+00, 8.6849e-01, 7.2192e-01],\n",
       "        [7.0932e-01, 4.5186e-03, 7.5483e-03, 6.7223e-02, 3.4029e+00]])"
      ]
     },
     "execution_count": 14,
     "metadata": {},
     "output_type": "execute_result"
    }
   ],
   "source": [
    "# elementwise power\n",
    "A**2"
   ]
  },
  {
   "cell_type": "code",
   "execution_count": 15,
   "metadata": {},
   "outputs": [
    {
     "data": {
      "text/plain": [
       "tensor([[-0.4735, -0.7449, -0.2154, -2.4459, -1.2131],\n",
       "        [ 0.3640, -3.2441, -0.8706, -1.8707, -2.7238],\n",
       "        [-0.4809,  1.0549,  0.4430, -0.0705, -0.1629],\n",
       "        [-0.1717, -2.6998, -2.4432, -1.3499,  0.6123]])"
      ]
     },
     "execution_count": 15,
     "metadata": {},
     "output_type": "execute_result"
    }
   ],
   "source": [
    "# logarithm and absolute value\n",
    "torch.log(torch.abs(A)) #ln"
   ]
  },
  {
   "cell_type": "code",
   "execution_count": 16,
   "metadata": {},
   "outputs": [
    {
     "data": {
      "text/plain": [
       "True"
      ]
     },
     "execution_count": 16,
     "metadata": {},
     "output_type": "execute_result"
    }
   ],
   "source": [
    "# all close\n",
    "torch.allclose(torch.log(torch.exp(A)), A)"
   ]
  },
  {
   "cell_type": "code",
   "execution_count": 17,
   "metadata": {},
   "outputs": [
    {
     "data": {
      "text/plain": [
       "tensor([[ True, False,  True, False, False],\n",
       "        [ True, False,  True, False, False],\n",
       "        [ True,  True,  True, False, False],\n",
       "        [ True, False, False, False,  True]])"
      ]
     },
     "execution_count": 17,
     "metadata": {},
     "output_type": "execute_result"
    }
   ],
   "source": [
    "## never compare floats with \"==\"\n",
    "torch.log(torch.exp(A)) == A"
   ]
  },
  {
   "cell_type": "code",
   "execution_count": 18,
   "metadata": {},
   "outputs": [
    {
     "data": {
      "text/plain": [
       "tensor(2.4785)"
      ]
     },
     "execution_count": 18,
     "metadata": {},
     "output_type": "execute_result"
    }
   ],
   "source": [
    "torch.trace(A)"
   ]
  },
  {
   "cell_type": "code",
   "execution_count": 19,
   "metadata": {},
   "outputs": [
    {
     "data": {
      "text/plain": [
       "tensor([[ 1.3592, -1.2852,  2.0621,  0.0395],\n",
       "        [-1.2852,  2.2759,  0.0379,  1.0972],\n",
       "        [ 2.0621,  0.0379, 12.6449, -1.3460],\n",
       "        [ 0.0395,  1.0972, -1.3460,  4.1915]])"
      ]
     },
     "execution_count": 19,
     "metadata": {},
     "output_type": "execute_result"
    }
   ],
   "source": [
    "A@A.T"
   ]
  },
  {
   "cell_type": "markdown",
   "metadata": {},
   "source": [
    "### Automatic differentiation"
   ]
  },
  {
   "cell_type": "code",
   "execution_count": 20,
   "metadata": {},
   "outputs": [
    {
     "data": {
      "text/plain": [
       "tensor([[1., 1.],\n",
       "        [1., 1.]], requires_grad=True)"
      ]
     },
     "execution_count": 20,
     "metadata": {},
     "output_type": "execute_result"
    }
   ],
   "source": [
    "# if we want to calculate gradients we need to specify this\n",
    "# by setting requires_grad=True for each tensor\n",
    "X = torch.ones(2, 2, requires_grad=True)\n",
    "X"
   ]
  },
  {
   "cell_type": "code",
   "execution_count": 21,
   "metadata": {},
   "outputs": [
    {
     "data": {
      "text/plain": [
       "tensor(10.8731, grad_fn=<SumBackward0>)"
      ]
     },
     "execution_count": 21,
     "metadata": {},
     "output_type": "execute_result"
    }
   ],
   "source": [
    "# we build a simple computational graph \n",
    "y = torch.sum(torch.exp(X))\n",
    "y"
   ]
  },
  {
   "cell_type": "code",
   "execution_count": 22,
   "metadata": {},
   "outputs": [
    {
     "data": {
      "text/plain": [
       "tensor([[2.7183, 2.7183],\n",
       "        [2.7183, 2.7183]])"
      ]
     },
     "execution_count": 22,
     "metadata": {},
     "output_type": "execute_result"
    }
   ],
   "source": [
    "# In pytorch gradients are accumulated each time backward() is called.\n",
    "# Keep that in mind!\n",
    "y.backward()\n",
    "X.grad"
   ]
  },
  {
   "cell_type": "code",
   "execution_count": 23,
   "metadata": {},
   "outputs": [
    {
     "data": {
      "text/plain": [
       "tensor([[2.7183, 2.7183],\n",
       "        [2.7183, 2.7183]])"
      ]
     },
     "execution_count": 23,
     "metadata": {},
     "output_type": "execute_result"
    }
   ],
   "source": [
    "# to suppress this behavior we have to reset the gradients by\n",
    "X.grad.zero_()\n",
    "y = torch.sum(torch.exp(X))\n",
    "y.backward() \n",
    "X.grad"
   ]
  },
  {
   "cell_type": "markdown",
   "metadata": {},
   "source": [
    "### Optimizing functions"
   ]
  },
  {
   "cell_type": "code",
   "execution_count": 24,
   "metadata": {},
   "outputs": [],
   "source": [
    "# define variable\n",
    "x = torch.tensor([2.,2.], requires_grad=True)"
   ]
  },
  {
   "cell_type": "markdown",
   "metadata": {},
   "source": [
    "We want to minimize the function $f(x_1, x_2) = 100(x_2-x_1^2)^2 + (1-x_1)^2$.\n",
    "\n",
    "The function has a minimum at $(1,1)$."
   ]
  },
  {
   "cell_type": "code",
   "execution_count": 25,
   "metadata": {},
   "outputs": [],
   "source": [
    "# define objective\n",
    "def f(x):\n",
    "    return 100*(x[1]-x[0]**2)**2+(1-x[0])**2"
   ]
  },
  {
   "cell_type": "code",
   "execution_count": 26,
   "metadata": {},
   "outputs": [],
   "source": [
    "# instantiate optimizer\n",
    "opt = torch.optim.Adam([x], lr=10)"
   ]
  },
  {
   "cell_type": "code",
   "execution_count": 27,
   "metadata": {},
   "outputs": [
    {
     "name": "stdout",
     "output_type": "stream",
     "text": [
      "Converged after 2538 iterations.\n",
      "Minimum: [0.9992902 0.9985799]\n"
     ]
    }
   ],
   "source": [
    "i = 0\n",
    "while True:\n",
    "    opt.zero_grad()\n",
    "    f_val = f(x)\n",
    "    f_val.backward()\n",
    "    opt.step()\n",
    "    i += 1\n",
    "    if torch.norm(x.grad)<0.001:\n",
    "        print(\"Converged after {} iterations.\".format(i))\n",
    "        print(\"Minimum: {}\".format(str(x.detach().numpy())))\n",
    "        break\n",
    "    if i>100000:\n",
    "        print(\"Maximum number of iterations reached.\")\n",
    "        break"
   ]
  },
  {
   "cell_type": "markdown",
   "metadata": {},
   "source": [
    "## Implementing a linear regression model"
   ]
  },
  {
   "cell_type": "code",
   "execution_count": 28,
   "metadata": {},
   "outputs": [],
   "source": [
    "# generate some data\n",
    "x = torch.rand(100,1)\n",
    "y = x*2 + torch.randn(100,1)*0.04"
   ]
  },
  {
   "cell_type": "code",
   "execution_count": 29,
   "metadata": {},
   "outputs": [
    {
     "data": {
      "text/plain": [
       "<matplotlib.collections.PathCollection at 0x11f243910>"
      ]
     },
     "execution_count": 29,
     "metadata": {},
     "output_type": "execute_result"
    },
    {
     "data": {
      "image/png": "[encoded data removed]",
      "text/plain": [
       "<Figure size 432x288 with 1 Axes>"
      ]
     },
     "metadata": {
      "needs_background": "light"
     },
     "output_type": "display_data"
    }
   ],
   "source": [
    "plt.scatter(x,y)"
   ]
  },
  {
   "cell_type": "code",
   "execution_count": 30,
   "metadata": {},
   "outputs": [],
   "source": [
    "from torch import nn\n",
    "from torch import optim"
   ]
  },
  {
   "cell_type": "code",
   "execution_count": 31,
   "metadata": {},
   "outputs": [],
   "source": [
    "linear_model = nn.Linear(in_features=1, out_features=1) # define model\n",
    "\n",
    "criterion = nn.MSELoss() # instantiate loss \n",
    "\n",
    "optimizer = optim.Adam(linear_model.parameters(), lr=0.1) # instantiate optimizer"
   ]
  },
  {
   "cell_type": "code",
   "execution_count": 32,
   "metadata": {},
   "outputs": [
    {
     "name": "stdout",
     "output_type": "stream",
     "text": [
      "0.18063770234584808\n",
      "0.0014866887358948588\n",
      "0.0012291534803807735\n",
      "0.0012278154026716948\n",
      "0.0012278086505830288\n",
      "0.0012278087669983506\n",
      "0.0012278086505830288\n",
      "0.0012278088834136724\n",
      "0.0012278087669983506\n",
      "0.0012278087669983506\n"
     ]
    }
   ],
   "source": [
    "for k in range(0, 500):\n",
    "    # set the parameter gradients to zero\n",
    "    optimizer.zero_grad()\n",
    "\n",
    "    # forward pass\n",
    "    outputs = linear_model(x)\n",
    "        \n",
    "    # training loss\n",
    "    loss = criterion(outputs, y)\n",
    "    \n",
    "    if k % 50 == 0:\n",
    "        print(loss.item())\n",
    "        \n",
    "    # backward pass\n",
    "    loss.backward()\n",
    "    optimizer.step()"
   ]
  },
  {
   "cell_type": "code",
   "execution_count": 33,
   "metadata": {
    "scrolled": true
   },
   "outputs": [
    {
     "data": {
      "text/plain": [
       "[Parameter containing:\n",
       " tensor([[2.0003]], requires_grad=True),\n",
       " Parameter containing:\n",
       " tensor([-0.0020], requires_grad=True)]"
      ]
     },
     "execution_count": 33,
     "metadata": {},
     "output_type": "execute_result"
    }
   ],
   "source": [
    "list(linear_model.parameters())"
   ]
  },
  {
   "cell_type": "code",
   "execution_count": 34,
   "metadata": {},
   "outputs": [
    {
     "data": {
      "image/png": "[encoded data removed]",
      "text/plain": [
       "<Figure size 432x288 with 1 Axes>"
      ]
     },
     "metadata": {
      "needs_background": "light"
     },
     "output_type": "display_data"
    }
   ],
   "source": [
    "x_plot = torch.linspace(0, 1, 200)[:,None]\n",
    "plt.scatter(x,y)\n",
    "plt.plot(x_plot.numpy(), linear_model(x_plot).detach().numpy(), 'r');"
   ]
  },
  {
   "cell_type": "markdown",
   "metadata": {},
   "source": [
    "## Fitting a neural network regression model"
   ]
  },
  {
   "cell_type": "code",
   "execution_count": 58,
   "metadata": {},
   "outputs": [],
   "source": [
    "# generate some more complicated data\n",
    "x = 20*torch.rand(100,1)\n",
    "y = torch.sin(x) + torch.randn(100,1)*0.04"
   ]
  },
  {
   "cell_type": "code",
   "execution_count": 60,
   "metadata": {},
   "outputs": [],
   "source": [
    "# define model\n",
    "model = nn.Sequential(\n",
    "    nn.Linear(in_features=1, out_features=100),\n",
    "    nn.Tanh(),\n",
    "    nn.Linear(in_features=100, out_features=100),\n",
    "    nn.Tanh(),\n",
    "    nn.Linear(in_features=100, out_features=100),\n",
    "    nn.Tanh(),\n",
    "    nn.Linear(in_features=100, out_features=100),\n",
    "    nn.Tanh(),\n",
    "    nn.Linear(in_features=100, out_features=1)\n",
    ");\n",
    "\n",
    "criterion = nn.MSELoss(); # instantiate loss \n",
    "\n",
    "optimizer = optim.Adam(model.parameters()); # instantiate optimizer"
   ]
  },
  {
   "cell_type": "code",
   "execution_count": 61,
   "metadata": {},
   "outputs": [
    {
     "name": "stdout",
     "output_type": "stream",
     "text": [
      "0.4949086904525757\n",
      "0.36875802278518677\n",
      "0.25697028636932373\n",
      "0.0014607246266677976\n",
      "0.0013890234986320138\n",
      "0.0013622826663777232\n",
      "0.0029035937041044235\n",
      "0.0013240480329841375\n",
      "0.0013098337221890688\n",
      "0.0013049665139988065\n",
      "0.0012920243898406625\n",
      "0.0012867600889876485\n",
      "0.0012792091583833098\n",
      "0.0012789970496669412\n",
      "0.0012639266205951571\n",
      "0.0012547652004286647\n",
      "0.0015823912108317018\n",
      "0.0012711320305243134\n",
      "0.0012270364677533507\n",
      "0.001322657917626202\n"
     ]
    }
   ],
   "source": [
    "for k in range(0, 10000):\n",
    "    # set the parameter gradients to zero\n",
    "    optimizer.zero_grad();\n",
    "\n",
    "    # forward pass\n",
    "    outputs = model(x)\n",
    "        \n",
    "    # training loss\n",
    "    loss = criterion(outputs, y)\n",
    "    \n",
    "    if k % 500 == 0:\n",
    "        print(loss.item())\n",
    "        \n",
    "    # backward pass\n",
    "    loss.backward()\n",
    "    optimizer.step()"
   ]
  },
  {
   "cell_type": "code",
   "execution_count": 62,
   "metadata": {
    "scrolled": false
   },
   "outputs": [
    {
     "data": {
      "image/png": "[encoded data removed]",
      "text/plain": [
       "<Figure size 432x288 with 1 Axes>"
      ]
     },
     "metadata": {
      "needs_background": "light"
     },
     "output_type": "display_data"
    }
   ],
   "source": [
    "x_plot = torch.linspace(0,20, 200)[:,None]\n",
    "plt.scatter(x,y)\n",
    "plt.plot(x_plot.numpy(), model(x_plot).detach().numpy(), 'r');"
   ]
  },
  {
   "cell_type": "code",
   "execution_count": 56,
   "metadata": {},
   "outputs": [
    {
     "data": {
      "text/plain": [
       "(torch.Size([200, 1]), torch.Size([200, 1]))"
      ]
     },
     "execution_count": 56,
     "metadata": {},
     "output_type": "execute_result"
    }
   ],
   "source": [
    "x_plot.shape,  model(x_plot).shape"
   ]
  },
  {
   "cell_type": "markdown",
   "metadata": {},
   "source": [
    "## Train a linear classifier"
   ]
  },
  {
   "cell_type": "code",
   "execution_count": 39,
   "metadata": {},
   "outputs": [
    {
     "name": "stdout",
     "output_type": "stream",
     "text": [
      "torch.Size([200, 2])\n",
      "torch.Size([200])\n"
     ]
    }
   ],
   "source": [
    "X1 = torch.randn((100,2)) + torch.tensor([1,2])\n",
    "X2 = torch.randn((100,2)) + torch.tensor([3,5])\n",
    "X = torch.cat((X1, X2))\n",
    "y = torch.cat((torch.ones(100), torch.zeros(100)))\n",
    "\n",
    "print(X.shape)\n",
    "print(y.shape)"
   ]
  },
  {
   "cell_type": "code",
   "execution_count": 40,
   "metadata": {},
   "outputs": [
    {
     "name": "stdout",
     "output_type": "stream",
     "text": [
      "tensor([1.8307, 3.4632])\n"
     ]
    },
    {
     "data": {
      "image/png": "[encoded data removed]",
      "text/plain": [
       "<Figure size 432x288 with 1 Axes>"
      ]
     },
     "metadata": {
      "needs_background": "light"
     },
     "output_type": "display_data"
    }
   ],
   "source": [
    "dataset = torch.utils.data.TensorDataset(X, y)\n",
    "train_dataset, test_dataset = torch.utils.data.random_split(dataset, [150, 50])\n",
    "X_train, y_train = train_dataset[:]\n",
    "X_test, y_test = test_dataset[:]\n",
    "\n",
    "plt.scatter(X_train[:, 0], X_train[:, 1], c=y_train)\n",
    "plt.scatter(X_test[:, 0], X_test[:, 1], c=y_test)\n",
    "print(X_train.mean(dim=0))"
   ]
  },
  {
   "cell_type": "code",
   "execution_count": 41,
   "metadata": {},
   "outputs": [],
   "source": [
    "# multiple layers can be concatenated using nn.Sequential \n",
    "linear_classifier = nn.Sequential(nn.Linear(2, 1), nn.Sigmoid())\n",
    "optimizer = optim.Adam(linear_classifier.parameters(), 1e-1)\n",
    "ce_loss = nn.BCELoss()"
   ]
  },
  {
   "cell_type": "code",
   "execution_count": 42,
   "metadata": {},
   "outputs": [],
   "source": [
    "def compute_accuracy(y_true, output):\n",
    "    y_pred = output > 0.5\n",
    "    accuracy = torch.mean((y_pred == y_true).float())\n",
    "    return accuracy.item()"
   ]
  },
  {
   "cell_type": "code",
   "execution_count": 43,
   "metadata": {},
   "outputs": [
    {
     "name": "stdout",
     "output_type": "stream",
     "text": [
      "accuracy: 0.5266666412353516\n",
      "accuracy: 0.8999999761581421\n",
      "accuracy: 0.8933333158493042\n",
      "accuracy: 0.9399999976158142\n",
      "accuracy: 0.9466666579246521\n",
      "accuracy: 0.95333331823349\n",
      "accuracy: 0.95333331823349\n",
      "accuracy: 0.95333331823349\n",
      "accuracy: 0.95333331823349\n",
      "accuracy: 0.9599999785423279\n"
     ]
    },
    {
     "data": {
      "image/png": "[encoded data removed]",
      "text/plain": [
       "<Figure size 432x288 with 1 Axes>"
      ]
     },
     "metadata": {
      "needs_background": "light"
     },
     "output_type": "display_data"
    }
   ],
   "source": [
    "hist = []\n",
    "for i in range(100):\n",
    "    optimizer.zero_grad()            # set gradients to zero, otherwise they add up\n",
    "    output = linear_classifier(X_train)[:,0] # compute output scores\n",
    "    loss = ce_loss(output, y_train)  # compute training loss\n",
    "    loss.backward()                  # compute gradients of the loss\n",
    "    optimizer.step()                 # backpropagate gradients\n",
    "    \n",
    "    hist.append(loss.item())\n",
    "    if i % 10 == 0:\n",
    "        print('accuracy:', compute_accuracy(y_train, output))\n",
    "\n",
    "plt.title('Loss history')\n",
    "plt.plot(hist);"
   ]
  },
  {
   "cell_type": "code",
   "execution_count": 44,
   "metadata": {},
   "outputs": [
    {
     "data": {
      "image/png": "[encoded data removed]",
      "text/plain": [
       "<Figure size 432x288 with 2 Axes>"
      ]
     },
     "metadata": {
      "needs_background": "light"
     },
     "output_type": "display_data"
    }
   ],
   "source": [
    "x1_min, x1_max = X[:, 0].min(), X[:, 0].max()\n",
    "x2_min, x2_max = X[:, 1].min(), X[:, 1].max()\n",
    "xx1, xx2 = np.meshgrid(np.arange(x1_min-0.5, x1_max+0.5, 0.05), \n",
    "                       np.arange(x2_min-0.5, x2_max+0.5, 0.05))\n",
    "\n",
    "X_grid = torch.as_tensor(np.c_[xx1.ravel(), xx2.ravel()], dtype=torch.float)\n",
    "y_grid = linear_classifier(X_grid)[:, 0].detach().reshape(xx1.shape)\n",
    "\n",
    "x_plot = np.linspace(x1_min, x1_max)\n",
    "w, b = linear_classifier.parameters()\n",
    "w, b = w.detach().flatten(), b.detach()\n",
    "y_plot = -w[0] / w[1] * x_plot - b / w[1]\n",
    "plt.plot(x_plot, y_plot)\n",
    "\n",
    "plt.title('Contour plot')\n",
    "plt.contourf(xx1, xx2, y_grid, alpha=0.4)\n",
    "plt.scatter(X[:, 0], X[:, 1], c=y)\n",
    "plt.colorbar();"
   ]
  },
  {
   "cell_type": "code",
   "execution_count": 45,
   "metadata": {},
   "outputs": [
    {
     "name": "stdout",
     "output_type": "stream",
     "text": [
      "test accuracy: 0.9399999976158142\n"
     ]
    }
   ],
   "source": [
    "output = linear_classifier(X_test)[:, 0]\n",
    "print('test accuracy:', compute_accuracy(y_test, output))"
   ]
  },
  {
   "cell_type": "code",
   "execution_count": null,
   "metadata": {},
   "outputs": [],
   "source": []
  }
 ],
 "metadata": {
  "kernelspec": {
   "display_name": "Python 3 (ipykernel)",
   "language": "python",
   "name": "python3"
  },
  "language_info": {
   "codemirror_mode": {
    "name": "ipython",
    "version": 3
   },
   "file_extension": ".py",
   "mimetype": "text/x-python",
   "name": "python",
   "nbconvert_exporter": "python",
   "pygments_lexer": "ipython3",
   "version": "3.9.12"
  }
 },
 "nbformat": 4,
 "nbformat_minor": 2
}
